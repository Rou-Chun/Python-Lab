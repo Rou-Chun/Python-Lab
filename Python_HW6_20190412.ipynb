{
 "cells": [
  {
   "cell_type": "markdown",
   "metadata": {},
   "source": [
    "# Gradient Descent"
   ]
  },
  {
   "cell_type": "code",
   "execution_count": 2,
   "metadata": {},
   "outputs": [],
   "source": [
    "%matplotlib inline\n",
    "\n",
    "import numpy as np\n",
    "import matplotlib.pyplot as plt\n",
    "import pandas as pd\n",
    "from ipywidgets import interact_manual\n",
    "import time"
   ]
  },
  {
   "cell_type": "markdown",
   "metadata": {},
   "source": [
    "## 定義一個存在最小值的 Loss function $L(x)=x^4-2x^3+3x^2-4x+5$ \n",
    "## 設定 Learning rate $\\eta = 0.02$"
   ]
  },
  {
   "cell_type": "code",
   "execution_count": 3,
   "metadata": {},
   "outputs": [],
   "source": [
    "η = 0.02\n",
    "def L(x):\n",
    "    return x**4-2*x**3+3*x**2-4*x+5\n",
    "def dL(x):\n",
    "    return 4*x**3-6*x**2+6*x-4"
   ]
  },
  {
   "cell_type": "markdown",
   "metadata": {},
   "source": [
    "## 以Gradient Descent的方法逐步逼近最小值"
   ]
  },
  {
   "cell_type": "code",
   "execution_count": 4,
   "metadata": {},
   "outputs": [],
   "source": [
    "def findMinimum(x):\n",
    "    n = 0\n",
    "    xx = np.linspace(0,2,1000)\n",
    "    plt.plot(xx, L(xx))\n",
    "    plt.scatter(x,L(x))\n",
    "    print(\"Iteration \"+str(n)+\": x = \"+str(x)+\", L(x) = \"+str(L(x)))       \n",
    "    while np.abs(η * dL(x)) >= 0.0001:\n",
    "        n = n + 1\n",
    "        x = x - η * dL(x)\n",
    "        plt.scatter(x,L(x))\n",
    "        print(\"Iteration \"+str(n)+\": x = \"+str(x)+\", L(x) = \"+str(L(x)))        \n",
    "        time.sleep(0.1)"
   ]
  },
  {
   "cell_type": "markdown",
   "metadata": {},
   "source": [
    "## 讓使用者輸入起始值，列出每次迭代找到的$x$和$L(x)$，並畫在圖上"
   ]
  },
  {
   "cell_type": "code",
   "execution_count": 5,
   "metadata": {},
   "outputs": [
    {
     "name": "stdout",
     "output_type": "stream",
     "text": [
      "Iteration 0: x = 0, L(x) = 5\n",
      "Iteration 1: x = 0.08, L(x) = 4.69821696\n",
      "Iteration 2: x = 0.15112704, L(x) = 4.457628327577217\n",
      "Iteration 3: x = 0.21545638920788254, L(x) = 4.259590163232216\n",
      "Iteration 4: x = 0.27437205324369807, L(x) = 4.092709470494717\n",
      "Iteration 5: x = 0.328828630915099, L(x) = 3.9496506633245643\n",
      "Iteration 6: x = 0.37950013378665104, L(x) = 3.8254908957865736\n",
      "Iteration 7: x = 0.42687010050322477, L(x) = 3.716810373207779\n",
      "Iteration 8: x = 0.4712891822650974, L(x) = 3.621158781541031\n",
      "Iteration 9: x = 0.5130137246607481, L(x) = 3.5367266149046257\n",
      "Iteration 10: x = 0.5522327248638431, L(x) = 3.462134379981608\n",
      "Iteration 11: x = 0.5890873610259489, L(x) = 3.3962931037411677\n",
      "Iteration 12: x = 0.6236855556045154, L(x) = 3.338310096162268\n",
      "Iteration 13: x = 0.6561130497834895, L(x) = 3.2874247864011252\n",
      "Iteration 14: x = 0.6864418927547844, L(x) = 3.2429653814298263\n",
      "Iteration 15: x = 0.7147369129325583, L(x) = 3.2043203979729267\n",
      "Iteration 16: x = 0.7410605432745038, L(x) = 3.170920985398301\n",
      "Iteration 17: x = 0.7654762648466616, L(x) = 3.1422310398564943\n",
      "Iteration 18: x = 0.7880508775532201, L(x) = 3.117742776832614\n",
      "Iteration 19: x = 0.8088557821640316, L(x) = 3.096975890410685\n",
      "Iteration 20: x = 0.827967448187159, L(x) = 3.079478797276068\n",
      "Iteration 21: x = 0.8454672375455347, L(x) = 3.0648307957769267\n",
      "Iteration 22: x = 0.8614407481007721, L(x) = 3.052644281971472\n",
      "Iteration 23: x = 0.8759768306013084, L(x) = 3.0425664518544817\n",
      "Iteration 24: x = 0.8891664167800464, L(x) = 3.0342801702989677\n",
      "Iteration 25: x = 0.9011012759024546, L(x) = 3.0275038915567434\n",
      "Iteration 26: x = 0.9118727938171752, L(x) = 3.021990667391174\n",
      "Iteration 27: x = 0.9215708445450026, L(x) = 3.0175263774638377\n",
      "Iteration 28: x = 0.9302828015582534, L(x) = 3.0139273684377734\n",
      "Iteration 29: x = 0.938092715607402, L(x) = 3.0110377029263447\n",
      "Iteration 30: x = 0.9450806691433465, L(x) = 3.008726207761432\n",
      "Iteration 31: x = 0.9513223044179949, L(x) = 3.006883483400946\n",
      "Iteration 32: x = 0.9568885131364288, L(x) = 3.0054190012490363\n",
      "Iteration 33: x = 0.9618452696858988, L(x) = 3.0042583795919597\n",
      "Iteration 34: x = 0.9662535869121301, L(x) = 3.003340895893734\n",
      "Iteration 35: x = 0.970169572523401, L(x) = 3.002617265576676\n",
      "Iteration 36: x = 0.9736445648711601, L(x) = 3.0020476959212856\n",
      "Iteration 37: x = 0.9767253285490338, L(x) = 3.001600208183576\n",
      "Iteration 38: x = 0.97945429253381, L(x) = 3.0012492107177637\n",
      "Iteration 39: x = 0.9818698161286599, L(x) = 3.000974299835436\n",
      "Iteration 40: x = 0.9840064705216447, L(x) = 3.000759262320279\n",
      "Iteration 41: x = 0.9858953261834382, L(x) = 3.0005912530292065\n",
      "Iteration 42: x = 0.9875642385033713, L(x) = 3.000460122072691\n",
      "Iteration 43: x = 0.9890381259567013, L(x) = 3.000357868070312\n",
      "Iteration 44: x = 0.9903392366966475, L(x) = 3.000278196468569\n",
      "Iteration 45: x = 0.9914874007827291, L(x) = 3.0002161645675227\n",
      "Iteration 46: x = 0.992500266316144, L(x) = 3.0001678975194777\n",
      "Iteration 47: x = 0.9933935185839721, L(x) = 3.0001303620073925\n",
      "Iteration 48: x = 0.9941810819497973, L(x) = 3.000101186513424\n",
      "Iteration 49: x = 0.994875304701144, L(x) = 3.0000785190207973\n",
      "Iteration 50: x = 0.9954871274037637, L(x) = 3.000060914653486\n",
      "Iteration 51: x = 0.9960262355457636, L(x) = 3.000047247163292\n",
      "Iteration 52: x = 0.9965011974037143, L(x) = 3.0000366393466598\n",
      "Iteration 53: x = 0.9969195881473966, L(x) = 3.0000284084419158\n",
      "Iteration 54: x = 0.9972881012356339, L(x) = 3.0000220233500627\n",
      "Iteration 55: x = 0.9976126481555189, L(x) = 3.0000170711657925\n",
      "Iteration 56: x = 0.9978984475315242, L(x) = 3.00001323102473\n",
      "Iteration 57: x = 0.9981501045875323, L(x) = 3.0000102536897195\n",
      "Iteration 58: x = 0.9983716818899081, L(x) = 3.000007945631923\n",
      "Iteration 59: x = 0.9985667622381235, L(x) = 3.0000061566274363\n",
      "Iteration 60: x = 0.99873850450462, L(x) = 3.0000047701001726\n",
      "Iteration 61: x = 0.99888969316016, L(x) = 3.0000036956078246\n",
      "Iteration 62: x = 0.9990227821566886, L(x) = 3.0000028629986546\n",
      "Iteration 63: x = 0.9991399337779763, L(x) = 3.00000221786986\n",
      "Iteration 64: x = 0.9992430530098466, L(x) = 3.0000017180391523\n"
     ]
    },
    {
     "data": {
      "image/png": "[encoded data removed]",
      "text/plain": [
       "<Figure size 432x288 with 1 Axes>"
      ]
     },
     "metadata": {},
     "output_type": "display_data"
    }
   ],
   "source": [
    "findMinimum(0)"
   ]
  },
  {
   "cell_type": "code",
   "execution_count": 6,
   "metadata": {},
   "outputs": [
    {
     "data": {
      "application/vnd.jupyter.widget-view+json": {
       "model_id": "17bf868bce29477189fd474593d685ab",
       "version_major": 2,
       "version_minor": 0
      },
      "text/plain": [
       "interactive(children=(FloatSlider(value=1.0, description='x', max=2.0), Button(description='Run Interact', sty…"
      ]
     },
     "metadata": {},
     "output_type": "display_data"
    }
   ],
   "source": [
    "interact_manual(findMinimum, x=(0.,2.));"
   ]
  },
  {
   "cell_type": "code",
   "execution_count": null,
   "metadata": {},
   "outputs": [],
   "source": []
  }
 ],
 "metadata": {
  "kernelspec": {
   "display_name": "Python 3",
   "language": "python",
   "name": "python3"
  },
  "language_info": {
   "codemirror_mode": {
    "name": "ipython",
    "version": 3
   },
   "file_extension": ".py",
   "mimetype": "text/x-python",
   "name": "python",
   "nbconvert_exporter": "python",
   "pygments_lexer": "ipython3",
   "version": "3.6.5"
  }
 },
 "nbformat": 4,
 "nbformat_minor": 2
}
