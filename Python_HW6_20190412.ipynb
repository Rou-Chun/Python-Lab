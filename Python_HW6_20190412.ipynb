{
 "cells": [
  {
   "cell_type": "markdown",
   "metadata": {},
   "source": [
    "# Gradient Descent"
   ]
  },
  {
   "cell_type": "code",
   "execution_count": 140,
   "metadata": {},
   "outputs": [],
   "source": [
    "%matplotlib inline\n",
    "\n",
    "import numpy as np\n",
    "import matplotlib.pyplot as plt\n",
    "import pandas as pd\n",
    "from ipywidgets import interact_manual\n",
    "import time"
   ]
  },
  {
   "cell_type": "markdown",
   "metadata": {},
   "source": [
    "## 定義一個存在最小值的 Loss function $L(x)=x^4-2x^3+3x^2-4x+5$ \n",
    "## 設定 Learning rate $\\eta = 0.02$"
   ]
  },
  {
   "cell_type": "code",
   "execution_count": 141,
   "metadata": {},
   "outputs": [],
   "source": [
    "η = 0.02\n",
    "def L(x):\n",
    "    return x**4-2*x**3+3*x**2-4*x+5\n",
    "def dL(x):\n",
    "    return 4*x**3-6*x**2+6*x-4"
   ]
  },
  {
   "cell_type": "markdown",
   "metadata": {},
   "source": [
    "## 以Gradient Descent的方法逐步逼近最小值"
   ]
  },
  {
   "cell_type": "code",
   "execution_count": 142,
   "metadata": {},
   "outputs": [],
   "source": [
    "def findMinimum(x):\n",
    "    n = 0\n",
    "    xx = np.linspace(0,2,1000)\n",
    "    plt.plot(xx, L(xx))\n",
    "    plt.scatter(x,L(x))\n",
    "    print(\"Iteration \"+str(n)+\": x = \"+str(x)+\", L(x) = \"+str(L(x)))       \n",
    "    while np.abs(η * dL(x)) >= 0.0001:\n",
    "        n = n + 1\n",
    "        x = x - η * dL(x)\n",
    "        plt.scatter(x,L(x))\n",
    "        print(\"Iteration \"+str(n)+\": x = \"+str(x)+\", L(x) = \"+str(L(x)))        \n",
    "        time.sleep(0.1)"
   ]
  },
  {
   "cell_type": "markdown",
   "metadata": {},
   "source": [
    "## 讓使用者輸入起始值，列出每次迭代找到的$x$和$L(x)$，並畫在圖上"
   ]
  },
  {
   "cell_type": "code",
   "execution_count": 143,
   "metadata": {},
   "outputs": [
    {
     "data": {
      "application/vnd.jupyter.widget-view+json": {
       "model_id": "53aa58ad43584170b56065c1cd001938",
       "version_major": 2,
       "version_minor": 0
      },
      "text/plain": [
       "interactive(children=(FloatSlider(value=1.0, description='x', max=2.0), Button(description='Run Interact', sty…"
      ]
     },
     "metadata": {},
     "output_type": "display_data"
    }
   ],
   "source": [
    "interact_manual(findMinimum, x=(0.,2.));"
   ]
  }
 ],
 "metadata": {
  "kernelspec": {
   "display_name": "Python 3",
   "language": "python",
   "name": "python3"
  },
  "language_info": {
   "codemirror_mode": {
    "name": "ipython",
    "version": 3
   },
   "file_extension": ".py",
   "mimetype": "text/x-python",
   "name": "python",
   "nbconvert_exporter": "python",
   "pygments_lexer": "ipython3",
   "version": "3.6.5"
  }
 },
 "nbformat": 4,
 "nbformat_minor": 2
}
