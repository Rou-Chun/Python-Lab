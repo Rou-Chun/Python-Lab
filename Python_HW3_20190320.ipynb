{
 "cells": [
  {
   "cell_type": "code",
   "execution_count": 97,
   "metadata": {},
   "outputs": [],
   "source": [
    "%matplotlib inline\n",
    "\n",
    "import numpy as np\n",
    "import matplotlib.pyplot as plt\n",
    "import pandas as pd\n",
    "from ipywidgets import interact"
   ]
  },
  {
   "cell_type": "code",
   "execution_count": 98,
   "metadata": {},
   "outputs": [],
   "source": [
    "def f(x):\n",
    "    arrayProperty(x)\n",
    "def arrayProperty(num):\n",
    "    arr = np.random.randint(-100, 100, num**2)\n",
    "    arr.shape = (num,num)\n",
    "    arr = np.triu(arr)\n",
    "    arr = arr + arr.T-np.diag(arr.diagonal())\n",
    "    if (np.linalg.eig(arr)[0] >= 0).all() :\n",
    "        print(str(arr)+ \"\\nis PSD\")\n",
    "    elif (np.linalg.eig(-arr)[0] >= 0).all() :\n",
    "        print(str(arr)+ \"\\nis NSD\")\n",
    "    else:\n",
    "        print(str(arr)+ \"\\nis ID\")"
   ]
  },
  {
   "cell_type": "code",
   "execution_count": 99,
   "metadata": {},
   "outputs": [
    {
     "data": {
      "application/vnd.jupyter.widget-view+json": {
       "model_id": "1226d3f9960a4aa8b675ce0ce793d1ff",
       "version_major": 2,
       "version_minor": 0
      },
      "text/plain": [
       "interactive(children=(IntSlider(value=10, description='x', max=20, min=1), Output()), _dom_classes=('widget-in…"
      ]
     },
     "metadata": {},
     "output_type": "display_data"
    }
   ],
   "source": [
    "interact(f, x=(1, 20));"
   ]
  },
  {
   "cell_type": "code",
   "execution_count": null,
   "metadata": {},
   "outputs": [],
   "source": []
  }
 ],
 "metadata": {
  "kernelspec": {
   "display_name": "Python 3",
   "language": "python",
   "name": "python3"
  },
  "language_info": {
   "codemirror_mode": {
    "name": "ipython",
    "version": 3
   },
   "file_extension": ".py",
   "mimetype": "text/x-python",
   "name": "python",
   "nbconvert_exporter": "python",
   "pygments_lexer": "ipython3",
   "version": "3.6.5"
  }
 },
 "nbformat": 4,
 "nbformat_minor": 2
}
