{
 "cells": [
  {
   "cell_type": "markdown",
   "metadata": {},
   "source": [
    "# 全臺Easy Go電動車充電站分布"
   ]
  },
  {
   "cell_type": "code",
   "execution_count": 233,
   "metadata": {},
   "outputs": [],
   "source": [
    "%matplotlib inline\n",
    "\n",
    "import numpy as np\n",
    "import matplotlib.pyplot as plt\n",
    "import pandas as pd\n",
    "import matplotlib as mpl\n",
    "mpl.rc('font', family='Noto Sans CJK TC')"
   ]
  },
  {
   "cell_type": "code",
   "execution_count": 234,
   "metadata": {},
   "outputs": [
    {
     "data": {
      "text/html": [
       "<div>\n",
       "<style scoped>\n",
       "    .dataframe tbody tr th:only-of-type {\n",
       "        vertical-align: middle;\n",
       "    }\n",
       "\n",
       "    .dataframe tbody tr th {\n",
       "        vertical-align: top;\n",
       "    }\n",
       "\n",
       "    .dataframe thead th {\n",
       "        text-align: right;\n",
       "    }\n",
       "</style>\n",
       "<table border=\"1\" class=\"dataframe\">\n",
       "  <thead>\n",
       "    <tr style=\"text-align: right;\">\n",
       "      <th></th>\n",
       "      <th>充電站</th>\n",
       "      <th>地點</th>\n",
       "      <th>站數</th>\n",
       "      <th>地址</th>\n",
       "      <th>經度</th>\n",
       "      <th>緯度</th>\n",
       "    </tr>\n",
       "  </thead>\n",
       "  <tbody>\n",
       "    <tr>\n",
       "      <th>0</th>\n",
       "      <td>Y</td>\n",
       "      <td>基隆成功停車場</td>\n",
       "      <td>1</td>\n",
       "      <td>基隆市仁愛區成功一路88號3樓</td>\n",
       "      <td>25.127441</td>\n",
       "      <td>121.737452</td>\n",
       "    </tr>\n",
       "    <tr>\n",
       "      <th>1</th>\n",
       "      <td>Y</td>\n",
       "      <td>博愛地下停車場</td>\n",
       "      <td>2</td>\n",
       "      <td>基隆市仁愛區愛三路11號B1F</td>\n",
       "      <td>25.127358</td>\n",
       "      <td>121.74178</td>\n",
       "    </tr>\n",
       "    <tr>\n",
       "      <th>2</th>\n",
       "      <td>Y</td>\n",
       "      <td>基隆海洋科學博物館</td>\n",
       "      <td>1</td>\n",
       "      <td>基隆市中正區北寧路367號</td>\n",
       "      <td>25.140135</td>\n",
       "      <td>121.799284</td>\n",
       "    </tr>\n",
       "    <tr>\n",
       "      <th>3</th>\n",
       "      <td>Y</td>\n",
       "      <td>府前廣場地下停車場</td>\n",
       "      <td>2</td>\n",
       "      <td>臺北市信義區松壽路1號B1</td>\n",
       "      <td>25.036536</td>\n",
       "      <td>121.56402</td>\n",
       "    </tr>\n",
       "    <tr>\n",
       "      <th>4</th>\n",
       "      <td>Y</td>\n",
       "      <td>洛陽綜合立體停車場</td>\n",
       "      <td>1</td>\n",
       "      <td>臺北市萬華區環河南路1段1號(B1-西區86~87)</td>\n",
       "      <td>25.0478805</td>\n",
       "      <td>121.5053365</td>\n",
       "    </tr>\n",
       "  </tbody>\n",
       "</table>\n",
       "</div>"
      ],
      "text/plain": [
       "  充電站         地點  站數                          地址          經度           緯度\n",
       "0   Y    基隆成功停車場   1             基隆市仁愛區成功一路88號3樓   25.127441   121.737452\n",
       "1   Y    博愛地下停車場   2             基隆市仁愛區愛三路11號B1F   25.127358    121.74178\n",
       "2   Y  基隆海洋科學博物館   1               基隆市中正區北寧路367號   25.140135   121.799284\n",
       "3   Y  府前廣場地下停車場   2               臺北市信義區松壽路1號B1   25.036536    121.56402\n",
       "4   Y  洛陽綜合立體停車場   1  臺北市萬華區環河南路1段1號(B1-西區86~87)  25.0478805  121.5053365"
      ]
     },
     "execution_count": 234,
     "metadata": {},
     "output_type": "execute_result"
    }
   ],
   "source": [
    "df = pd.read_csv('https://www.lev.org.tw/Files/ievfile/ChargingRenta_Station.csv')\n",
    "df2 = df.loc[:,'充電站':'緯度']\n",
    "df3 = df2.drop(columns=['租賃站'])\n",
    "df3.head()"
   ]
  },
  {
   "cell_type": "markdown",
   "metadata": {},
   "source": [
    "### 全臺充電站總站數"
   ]
  },
  {
   "cell_type": "code",
   "execution_count": 235,
   "metadata": {},
   "outputs": [
    {
     "data": {
      "text/plain": [
       "739"
      ]
     },
     "execution_count": 235,
     "metadata": {},
     "output_type": "execute_result"
    }
   ],
   "source": [
    "np.sum(df3.站數)"
   ]
  },
  {
   "cell_type": "code",
   "execution_count": 236,
   "metadata": {},
   "outputs": [],
   "source": [
    "county = ['基隆市', '臺北市', '新北市', '桃園市', '新竹市', '新竹縣', '苗栗縣', '臺中市', '彰化縣', '南投縣', '雲林縣',\n",
    "          '嘉義市', '嘉義縣', '臺南市', '高雄市', '屏東縣', '臺東縣', '花蓮縣', '宜蘭縣', '澎湖縣', '金門縣', '連江縣']"
   ]
  },
  {
   "cell_type": "code",
   "execution_count": 237,
   "metadata": {},
   "outputs": [],
   "source": [
    "chargeStationNum = []\n",
    "for c in county:\n",
    "    chargeStationNum.append(np.sum(df3[df3.地址.str.contains(c)].站數))"
   ]
  },
  {
   "cell_type": "code",
   "execution_count": 238,
   "metadata": {},
   "outputs": [
    {
     "data": {
      "text/plain": [
       "[6, 124, 148, 16, 0, 3, 0, 353, 0, 2, 0, 0, 3, 64, 12, 1, 0, 1, 1, 0, 2, 0]"
      ]
     },
     "execution_count": 238,
     "metadata": {},
     "output_type": "execute_result"
    }
   ],
   "source": [
    "chargeStationNum"
   ]
  },
  {
   "cell_type": "code",
   "execution_count": 239,
   "metadata": {},
   "outputs": [
    {
     "data": {
      "text/plain": [
       "736"
      ]
     },
     "execution_count": 239,
     "metadata": {},
     "output_type": "execute_result"
    }
   ],
   "source": [
    "np.sum(chargeStationNum)"
   ]
  },
  {
   "cell_type": "code",
   "execution_count": 240,
   "metadata": {},
   "outputs": [],
   "source": [
    "countyCharge = list(zip(chargeStationNum,county))\n",
    "countyCharge.sort(reverse=True)\n",
    "countyCharge\n",
    "chargeStationNum,county =zip(*countyCharge)\n",
    "#countyCharge_arr = np.array(countyCharge)\n",
    "#countyCharge_arr.T.sort()\n",
    "#countyCharge_arr.T"
   ]
  },
  {
   "cell_type": "markdown",
   "metadata": {},
   "source": [
    "## 依照地址分別計算各縣市充電站總數，顯示排序後長條圖"
   ]
  },
  {
   "cell_type": "code",
   "execution_count": 241,
   "metadata": {},
   "outputs": [
    {
     "data": {
      "text/plain": [
       "<BarContainer object of 22 artists>"
      ]
     },
     "execution_count": 241,
     "metadata": {},
     "output_type": "execute_result"
    },
    {
     "data": {
      "image/png": "[encoded data removed]",
      "text/plain": [
       "<Figure size 1440x360 with 1 Axes>"
      ]
     },
     "metadata": {},
     "output_type": "display_data"
    }
   ],
   "source": [
    "plt.figure(figsize=(20,5))\n",
    "plt.xkcd()\n",
    "plt.legend('upper right')\n",
    "plt.xlabel(\"city\")\n",
    "plt.ylabel(\"Number of charging station\")\n",
    "plt.bar(county, chargeStationNum)"
   ]
  },
  {
   "cell_type": "markdown",
   "metadata": {},
   "source": [
    "## 由於資料表有些資料有誤，先拿掉有誤的資料(共五筆)"
   ]
  },
  {
   "cell_type": "code",
   "execution_count": 242,
   "metadata": {},
   "outputs": [],
   "source": [
    "df4 = df3.drop(df3.index[[263,263]])\n",
    "df5 = df4.drop(df4.index[[258,258]])\n",
    "df6 = df5.drop(df5.index[[132,132]])\n",
    "df7 = df6.drop(df6.index[[122,122]])\n",
    "df8 = df7.drop(df7.index[[23,23]])"
   ]
  },
  {
   "cell_type": "markdown",
   "metadata": {},
   "source": [
    "## 依經緯度畫出全臺充電站的位置分布圖"
   ]
  },
  {
   "cell_type": "code",
   "execution_count": 243,
   "metadata": {},
   "outputs": [
    {
     "data": {
      "text/plain": [
       "<matplotlib.axes._subplots.AxesSubplot at 0x1e75608fe10>"
      ]
     },
     "execution_count": 243,
     "metadata": {},
     "output_type": "execute_result"
    },
    {
     "data": {
      "image/png": "[encoded data removed]",
      "text/plain": [
       "<Figure size 432x288 with 1 Axes>"
      ]
     },
     "metadata": {},
     "output_type": "display_data"
    }
   ],
   "source": [
    "import locale\n",
    "# atof\n",
    "\n",
    "locale.setlocale(locale.LC_NUMERIC, '')\n",
    "df8['經度'] = df8['經度'].apply(locale.atof)\n",
    "df8['緯度'] = df8['緯度'].apply(locale.atof)\n",
    "df8.plot.scatter(x = '經度', y = '緯度')"
   ]
  },
  {
   "cell_type": "code",
   "execution_count": null,
   "metadata": {},
   "outputs": [],
   "source": []
  }
 ],
 "metadata": {
  "kernelspec": {
   "display_name": "Python 3",
   "language": "python",
   "name": "python3"
  },
  "language_info": {
   "codemirror_mode": {
    "name": "ipython",
    "version": 3
   },
   "file_extension": ".py",
   "mimetype": "text/x-python",
   "name": "python",
   "nbconvert_exporter": "python",
   "pygments_lexer": "ipython3",
   "version": "3.6.5"
  }
 },
 "nbformat": 4,
 "nbformat_minor": 2
}
