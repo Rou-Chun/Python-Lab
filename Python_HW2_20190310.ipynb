{
 "cells": [
  {
   "cell_type": "code",
   "execution_count": 87,
   "metadata": {},
   "outputs": [],
   "source": [
    "%matplotlib inline\n",
    "\n",
    "import numpy as np\n",
    "import matplotlib.pyplot as plt\n",
    "import pandas as pd\n",
    "from PIL import Image\n",
    "from ipywidgets import interact\n",
    "img = Image.open(r'C:\\Users\\Chun\\Desktop\\PythonHW\\images\\HW2_20190310/槌子.png')\n",
    "img1 = Image.open(r'C:\\Users\\Chun\\Desktop\\PythonHW\\images\\HW2_20190310/地鼠.png')\n",
    "img2 = Image.open(r'C:\\Users\\Chun\\Desktop\\PythonHW\\images\\HW2_20190310/被打的地鼠.png')\n",
    "from ipywidgets import interact_manual"
   ]
  },
  {
   "cell_type": "code",
   "execution_count": 91,
   "metadata": {},
   "outputs": [
    {
     "data": {
      "application/vnd.jupyter.widget-view+json": {
       "model_id": "3946dd71504c4e36852294355dbb57ed",
       "version_major": 2,
       "version_minor": 0
      },
      "text/plain": [
       "interactive(children=(Dropdown(description='hit_location', options={'左下': [0, 0], '左中': [0, 1], '左上': [0, 2], …"
      ]
     },
     "metadata": {},
     "output_type": "display_data"
    }
   ],
   "source": [
    "def f(hit_location):\n",
    "    picwidth = 630\n",
    "    mouselocation = [np.random.randint(3), np.random.randint(3)]\n",
    "    if mouselocation == hit_location:\n",
    "        plt.imshow(img2,extent=[mouselocation[0]*picwidth, mouselocation[0]*picwidth+picwidth, mouselocation[1]*picwidth, mouselocation[1]*picwidth+picwidth])\n",
    "    else:\n",
    "        plt.imshow(img,extent=[hit_location[0]*picwidth, hit_location[0]*picwidth+picwidth, hit_location[1]*picwidth, hit_location[1]*picwidth+picwidth])\n",
    "        plt.imshow(img1,extent=[mouselocation[0]*picwidth, mouselocation[0]*picwidth+picwidth, mouselocation[1]*picwidth, mouselocation[1]*picwidth+picwidth])\n",
    "    plt.xticks(np.arange(0, 4*picwidth, step=picwidth))\n",
    "    plt.yticks(np.arange(0, 4*picwidth, step=picwidth))\n",
    "    plt.grid()\n",
    "    \n",
    "interact_manual(f, hit_location={'左下':[0,0], '左中':[0,1], '左上':[0,2], '中下':[1,0], '中間':[1,1], '中上':[1,2], '右下':[2,0], '右中':[2,1], '右上':[2,2]});"
   ]
  },
  {
   "cell_type": "code",
   "execution_count": null,
   "metadata": {},
   "outputs": [],
   "source": []
  }
 ],
 "metadata": {
  "kernelspec": {
   "display_name": "Python 3",
   "language": "python",
   "name": "python3"
  },
  "language_info": {
   "codemirror_mode": {
    "name": "ipython",
    "version": 3
   },
   "file_extension": ".py",
   "mimetype": "text/x-python",
   "name": "python",
   "nbconvert_exporter": "python",
   "pygments_lexer": "ipython3",
   "version": "3.6.5"
  }
 },
 "nbformat": 4,
 "nbformat_minor": 2
}
