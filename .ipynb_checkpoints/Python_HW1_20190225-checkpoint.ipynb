{
 "cells": [
  {
   "cell_type": "code",
   "execution_count": 200,
   "metadata": {},
   "outputs": [],
   "source": [
    "%matplotlib inline\n",
    "\n",
    "import numpy as np\n",
    "import matplotlib.pyplot as plt"
   ]
  },
  {
   "cell_type": "code",
   "execution_count": 227,
   "metadata": {},
   "outputs": [
    {
     "data": {
      "text/plain": [
       "[<matplotlib.lines.Line2D at 0x19a23b54da0>]"
      ]
     },
     "execution_count": 227,
     "metadata": {},
     "output_type": "execute_result"
    },
    {
     "data": {
      "image/png": "[encoded data removed]",
      "text/plain": [
       "<Figure size 432x288 with 1 Axes>"
      ]
     },
     "metadata": {},
     "output_type": "display_data"
    }
   ],
   "source": [
    "ax = plt.gca()\n",
    "ax.set_aspect('equal')\n",
    "t = np.linspace(0, 2*np.pi, 100)\n",
    "linex = np.linspace(0, 5, 100)\n",
    "liney = 2.15+np.sin(t) -0.4*t\n",
    "\n",
    "bodyx = 2.2*np.cos(t)\n",
    "bodyy = 2*np.sin(t) - np.sin(2*t)\n",
    "\n",
    "tailx = 5.3+ 0.35 * np.cos(t)\n",
    "taily = -0.1+ 0.35 * np.sin(t)\n",
    "\n",
    "eyeleftx = -1 + 0.4 * np.cos(t)\n",
    "eyelefty = -0.2 + 0.4 * np.sin(t)\n",
    "eyerightx = 1 + 0.4 * np.cos(t)\n",
    "eyerighty = -0.2 + 0.4 * np.sin(t)\n",
    "\n",
    "littleeyeleftx = -1 + 0.2 * np.cos(t)\n",
    "littleeyelefty = -0.2 + 0.2 * np.sin(t)\n",
    "littleeyerightx = 1 + 0.2 * np.cos(t)\n",
    "littleeyerighty = -0.2 + 0.2 * np.sin(t)\n",
    "\n",
    "xx1 = [-1.35, -0.65]\n",
    "xx2 = [1.35, 0.65]\n",
    "yy1 = [-0.2, -0.2]\n",
    "xx3 = [-1, -1]\n",
    "xx4 = [1, 1]\n",
    "yy2 = [-0.55, 0.15]\n",
    "\n",
    "mouthx1=np.linspace(-0.5,0,1000)\n",
    "mouthx2=np.linspace(0,0.5,1000)\n",
    "mouthy1=-1.5+np.square(2*mouthx1+0.5)\n",
    "mouthy2=-1.5+np.square(2*mouthx1+0.5)\n",
    "\n",
    "plt.fill(bodyy,bodyx,\"#00C400\")\n",
    "plt.plot(linex,liney,\"k\")\n",
    "plt.fill(tailx,taily,\"#00C400\")\n",
    "plt.fill(eyeleftx,eyelefty,\"k\")\n",
    "plt.fill(eyerightx,eyerighty,\"k\")\n",
    "plt.fill(littleeyeleftx,littleeyelefty,\"#FFFF1C\")\n",
    "plt.fill(littleeyerightx,littleeyerighty,\"#FFFF1C\")\n",
    "plt.plot(xx1,yy1,\"#FFFF1C\",linewidth=5)\n",
    "plt.plot(xx2,yy1,\"#FFFF1C\",linewidth=5)\n",
    "plt.plot(xx3,yy2,\"#FFFF1C\",linewidth=5)\n",
    "plt.plot(xx4,yy2,\"#FFFF1C\",linewidth=5)\n",
    "plt.plot(mouthx1,mouthy1,'k')\n",
    "plt.plot(mouthx2,mouthy2,'k')"
   ]
  },
  {
   "cell_type": "code",
   "execution_count": null,
   "metadata": {},
   "outputs": [],
   "source": []
  }
 ],
 "metadata": {
  "kernelspec": {
   "display_name": "Python 3",
   "language": "python",
   "name": "python3"
  },
  "language_info": {
   "codemirror_mode": {
    "name": "ipython",
    "version": 3
   },
   "file_extension": ".py",
   "mimetype": "text/x-python",
   "name": "python",
   "nbconvert_exporter": "python",
   "pygments_lexer": "ipython3",
   "version": "3.6.5"
  }
 },
 "nbformat": 4,
 "nbformat_minor": 2
}
