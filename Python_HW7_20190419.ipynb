{
 "cells": [
  {
   "cell_type": "markdown",
   "metadata": {},
   "source": [
    "# 手寫辨識機器學習"
   ]
  },
  {
   "cell_type": "code",
   "execution_count": 73,
   "metadata": {},
   "outputs": [],
   "source": [
    "%matplotlib inline\n",
    "\n",
    "import numpy as np\n",
    "import matplotlib.pyplot as plt\n",
    "from keras.datasets import mnist\n",
    "from keras.models import Sequential\n",
    "from keras.layers import Dense, Activation\n",
    "from keras.optimizers import SGD, RMSprop, Adagrad, Adadelta, Adamax, Nadam, Adam\n",
    "from keras.utils import np_utils\n",
    "from ipywidgets import interact_manual\n",
    "(x_train, y_train), (x_test, y_test) = mnist.load_data()"
   ]
  },
  {
   "cell_type": "code",
   "execution_count": 74,
   "metadata": {},
   "outputs": [],
   "source": [
    "x_train = x_train.reshape(60000, 784)\n",
    "x_test = x_test.reshape(10000, 784)"
   ]
  },
  {
   "cell_type": "code",
   "execution_count": 75,
   "metadata": {},
   "outputs": [],
   "source": [
    "y_train = np_utils.to_categorical(y_train, 10)\n",
    "y_test = np_utils.to_categorical(y_test, 10)"
   ]
  },
  {
   "cell_type": "markdown",
   "metadata": {},
   "source": [
    "## Normalization"
   ]
  },
  {
   "cell_type": "code",
   "execution_count": 76,
   "metadata": {},
   "outputs": [],
   "source": [
    "x_train_1 = (x_train - x_train.min()) / (x_train.max() - x_train.min())\n",
    "x_test_1 = (x_test - x_test.min()) / (x_test.max()- x_test.min())"
   ]
  },
  {
   "cell_type": "markdown",
   "metadata": {},
   "source": [
    "## Model1 : "
   ]
  },
  {
   "cell_type": "code",
   "execution_count": 77,
   "metadata": {},
   "outputs": [
    {
     "name": "stdout",
     "output_type": "stream",
     "text": [
      "_________________________________________________________________\n",
      "Layer (type)                 Output Shape              Param #   \n",
      "=================================================================\n",
      "dense_31 (Dense)             (None, 4)                 3140      \n",
      "_________________________________________________________________\n",
      "activation_31 (Activation)   (None, 4)                 0         \n",
      "_________________________________________________________________\n",
      "dense_32 (Dense)             (None, 2)                 10        \n",
      "_________________________________________________________________\n",
      "activation_32 (Activation)   (None, 2)                 0         \n",
      "_________________________________________________________________\n",
      "dense_33 (Dense)             (None, 10)                30        \n",
      "_________________________________________________________________\n",
      "activation_33 (Activation)   (None, 10)                0         \n",
      "=================================================================\n",
      "Total params: 3,180\n",
      "Trainable params: 3,180\n",
      "Non-trainable params: 0\n",
      "_________________________________________________________________\n"
     ]
    }
   ],
   "source": [
    "model1 = Sequential()\n",
    "model1.add(Dense(4, input_dim=784))\n",
    "model1.add(Activation('sigmoid'))\n",
    "model1.add(Dense(2))\n",
    "model1.add(Activation('elu'))\n",
    "model1.add(Dense(10))\n",
    "model1.add(Activation('softmax'))\n",
    "model1.compile(loss='binary_crossentropy', optimizer=Adam(lr=0.01), metrics=['accuracy'])\n",
    "model1.summary()"
   ]
  },
  {
   "cell_type": "code",
   "execution_count": 78,
   "metadata": {},
   "outputs": [
    {
     "name": "stdout",
     "output_type": "stream",
     "text": [
      "Train on 60000 samples, validate on 10000 samples\n",
      "Epoch 1/20\n",
      "60000/60000 [==============================] - 2s 33us/step - loss: 0.1859 - acc: 0.9295 - val_loss: 0.1515 - val_acc: 0.9391\n",
      "Epoch 2/20\n",
      "60000/60000 [==============================] - 1s 21us/step - loss: 0.1403 - acc: 0.9462 - val_loss: 0.1294 - val_acc: 0.9525\n",
      "Epoch 3/20\n",
      "60000/60000 [==============================] - 1s 21us/step - loss: 0.1290 - acc: 0.9523 - val_loss: 0.1306 - val_acc: 0.9522\n",
      "Epoch 4/20\n",
      "60000/60000 [==============================] - 1s 21us/step - loss: 0.1254 - acc: 0.9541 - val_loss: 0.1255 - val_acc: 0.9562\n",
      "Epoch 5/20\n",
      "60000/60000 [==============================] - 1s 24us/step - loss: 0.1231 - acc: 0.9556 - val_loss: 0.1253 - val_acc: 0.9568\n",
      "Epoch 6/20\n",
      "60000/60000 [==============================] - 1s 23us/step - loss: 0.1216 - acc: 0.9575 - val_loss: 0.1243 - val_acc: 0.9586\n",
      "Epoch 7/20\n",
      "60000/60000 [==============================] - 1s 21us/step - loss: 0.1205 - acc: 0.9587 - val_loss: 0.1273 - val_acc: 0.9566\n",
      "Epoch 8/20\n",
      "60000/60000 [==============================] - 1s 21us/step - loss: 0.1199 - acc: 0.9590 - val_loss: 0.1248 - val_acc: 0.9575\n",
      "Epoch 9/20\n",
      "60000/60000 [==============================] - 1s 21us/step - loss: 0.1191 - acc: 0.9604 - val_loss: 0.1241 - val_acc: 0.9604\n",
      "Epoch 10/20\n",
      "60000/60000 [==============================] - 1s 22us/step - loss: 0.1179 - acc: 0.9616 - val_loss: 0.1284 - val_acc: 0.9569\n",
      "Epoch 11/20\n",
      "60000/60000 [==============================] - 1s 22us/step - loss: 0.1176 - acc: 0.9617 - val_loss: 0.1256 - val_acc: 0.9614\n",
      "Epoch 12/20\n",
      "60000/60000 [==============================] - 1s 21us/step - loss: 0.1169 - acc: 0.9621 - val_loss: 0.1253 - val_acc: 0.9602\n",
      "Epoch 13/20\n",
      "60000/60000 [==============================] - 1s 22us/step - loss: 0.1174 - acc: 0.9621 - val_loss: 0.1268 - val_acc: 0.9610\n",
      "Epoch 14/20\n",
      "60000/60000 [==============================] - 1s 23us/step - loss: 0.1168 - acc: 0.9626 - val_loss: 0.1235 - val_acc: 0.9615\n",
      "Epoch 15/20\n",
      "60000/60000 [==============================] - 1s 20us/step - loss: 0.1158 - acc: 0.9626 - val_loss: 0.1257 - val_acc: 0.9598\n",
      "Epoch 16/20\n",
      "60000/60000 [==============================] - 1s 20us/step - loss: 0.1152 - acc: 0.9632 - val_loss: 0.1224 - val_acc: 0.9613\n",
      "Epoch 17/20\n",
      "60000/60000 [==============================] - 1s 21us/step - loss: 0.1148 - acc: 0.9637 - val_loss: 0.1238 - val_acc: 0.9619\n",
      "Epoch 18/20\n",
      "60000/60000 [==============================] - 1s 21us/step - loss: 0.1148 - acc: 0.9636 - val_loss: 0.1364 - val_acc: 0.9571\n",
      "Epoch 19/20\n",
      "60000/60000 [==============================] - 2s 26us/step - loss: 0.1145 - acc: 0.9637 - val_loss: 0.1269 - val_acc: 0.9588\n",
      "Epoch 20/20\n",
      "60000/60000 [==============================] - 2s 27us/step - loss: 0.1148 - acc: 0.9637 - val_loss: 0.1240 - val_acc: 0.9626\n"
     ]
    }
   ],
   "source": [
    "model_1 = model1.fit(x_train_1, y_train, batch_size=100, epochs=20, verbose=1, validation_data=(x_test_1, y_test))"
   ]
  },
  {
   "cell_type": "markdown",
   "metadata": {},
   "source": [
    "## Model2 : "
   ]
  },
  {
   "cell_type": "code",
   "execution_count": 87,
   "metadata": {},
   "outputs": [
    {
     "name": "stdout",
     "output_type": "stream",
     "text": [
      "_________________________________________________________________\n",
      "Layer (type)                 Output Shape              Param #   \n",
      "=================================================================\n",
      "dense_37 (Dense)             (None, 4)                 3140      \n",
      "_________________________________________________________________\n",
      "activation_37 (Activation)   (None, 4)                 0         \n",
      "_________________________________________________________________\n",
      "dense_38 (Dense)             (None, 2)                 10        \n",
      "_________________________________________________________________\n",
      "activation_38 (Activation)   (None, 2)                 0         \n",
      "_________________________________________________________________\n",
      "dense_39 (Dense)             (None, 10)                30        \n",
      "_________________________________________________________________\n",
      "activation_39 (Activation)   (None, 10)                0         \n",
      "=================================================================\n",
      "Total params: 3,180\n",
      "Trainable params: 3,180\n",
      "Non-trainable params: 0\n",
      "_________________________________________________________________\n"
     ]
    }
   ],
   "source": [
    "model2 = Sequential()\n",
    "model2.add(Dense(4, input_dim=784))\n",
    "model2.add(Activation('relu'))\n",
    "model2.add(Dense(2))\n",
    "model2.add(Activation('relu'))\n",
    "model2.add(Dense(10))\n",
    "model2.add(Activation('softmax'))\n",
    "model2.compile(loss='binary_crossentropy', optimizer=Adam(lr=0.01), metrics=['accuracy'])\n",
    "model2.summary()"
   ]
  },
  {
   "cell_type": "code",
   "execution_count": 88,
   "metadata": {},
   "outputs": [
    {
     "name": "stdout",
     "output_type": "stream",
     "text": [
      "Train on 60000 samples, validate on 10000 samples\n",
      "Epoch 1/20\n",
      "60000/60000 [==============================] - 2s 41us/step - loss: 0.1923 - acc: 0.9246 - val_loss: 0.1598 - val_acc: 0.9348\n",
      "Epoch 2/20\n",
      "60000/60000 [==============================] - 2s 26us/step - loss: 0.1572 - acc: 0.9355 - val_loss: 0.1527 - val_acc: 0.9359\n",
      "Epoch 3/20\n",
      "60000/60000 [==============================] - 2s 26us/step - loss: 0.1520 - acc: 0.9376 - val_loss: 0.1510 - val_acc: 0.9381\n",
      "Epoch 4/20\n",
      "60000/60000 [==============================] - 2s 26us/step - loss: 0.1491 - acc: 0.9422 - val_loss: 0.1488 - val_acc: 0.9432\n",
      "Epoch 5/20\n",
      "60000/60000 [==============================] - 2s 28us/step - loss: 0.1447 - acc: 0.9450 - val_loss: 0.1458 - val_acc: 0.9420\n",
      "Epoch 6/20\n",
      "60000/60000 [==============================] - 2s 26us/step - loss: 0.1423 - acc: 0.9470 - val_loss: 0.1437 - val_acc: 0.9471\n",
      "Epoch 7/20\n",
      "60000/60000 [==============================] - 2s 26us/step - loss: 0.1410 - acc: 0.9484 - val_loss: 0.1445 - val_acc: 0.9446\n",
      "Epoch 8/20\n",
      "60000/60000 [==============================] - 2s 26us/step - loss: 0.1407 - acc: 0.9484 - val_loss: 0.1417 - val_acc: 0.9465\n",
      "Epoch 9/20\n",
      "60000/60000 [==============================] - 2s 26us/step - loss: 0.1397 - acc: 0.9493 - val_loss: 0.1401 - val_acc: 0.9480\n",
      "Epoch 10/20\n",
      "60000/60000 [==============================] - 2s 28us/step - loss: 0.1390 - acc: 0.9495 - val_loss: 0.1398 - val_acc: 0.9491\n",
      "Epoch 11/20\n",
      "60000/60000 [==============================] - 2s 26us/step - loss: 0.1385 - acc: 0.9503 - val_loss: 0.1403 - val_acc: 0.9521\n",
      "Epoch 12/20\n",
      "60000/60000 [==============================] - 2s 26us/step - loss: 0.1376 - acc: 0.9513 - val_loss: 0.1383 - val_acc: 0.9513\n",
      "Epoch 13/20\n",
      "60000/60000 [==============================] - 2s 26us/step - loss: 0.1377 - acc: 0.9516 - val_loss: 0.1374 - val_acc: 0.9527\n",
      "Epoch 14/20\n",
      "60000/60000 [==============================] - 2s 26us/step - loss: 0.1366 - acc: 0.9523 - val_loss: 0.1395 - val_acc: 0.9511\n",
      "Epoch 15/20\n",
      "60000/60000 [==============================] - 2s 26us/step - loss: 0.1362 - acc: 0.9526 - val_loss: 0.1410 - val_acc: 0.9497\n",
      "Epoch 16/20\n",
      "60000/60000 [==============================] - 2s 26us/step - loss: 0.1363 - acc: 0.9527 - val_loss: 0.1378 - val_acc: 0.9534\n",
      "Epoch 17/20\n",
      "60000/60000 [==============================] - 2s 26us/step - loss: 0.1358 - acc: 0.9530 - val_loss: 0.1387 - val_acc: 0.9515\n",
      "Epoch 18/20\n",
      "60000/60000 [==============================] - 2s 26us/step - loss: 0.1360 - acc: 0.9531 - val_loss: 0.1379 - val_acc: 0.9515\n",
      "Epoch 19/20\n",
      "60000/60000 [==============================] - 2s 26us/step - loss: 0.1357 - acc: 0.9533 - val_loss: 0.1405 - val_acc: 0.9501\n",
      "Epoch 20/20\n",
      "60000/60000 [==============================] - 2s 26us/step - loss: 0.1354 - acc: 0.9535 - val_loss: 0.1386 - val_acc: 0.9527\n"
     ]
    }
   ],
   "source": [
    "model_2 = model2.fit(x_train_1, y_train, batch_size=100, epochs=20, verbose=1, validation_data=(x_test_1, y_test))"
   ]
  },
  {
   "cell_type": "code",
   "execution_count": 89,
   "metadata": {},
   "outputs": [],
   "source": [
    "predict1 = model1.predict_classes(x_test)\n",
    "predict2 = model2.predict_classes(x_test)"
   ]
  },
  {
   "cell_type": "code",
   "execution_count": 90,
   "metadata": {},
   "outputs": [],
   "source": [
    "def test1(測試編號):\n",
    "    plt.imshow(x_test[測試編號].reshape(28,28), cmap='Greys')\n",
    "    print(\"神經網路判斷為:\",predict1[測試編號])\n",
    "def test2(測試編號):\n",
    "    plt.imshow(x_test[測試編號].reshape(28,28), cmap='Greys')\n",
    "    print(\"神經網路判斷為:\",predict2[測試編號])"
   ]
  },
  {
   "cell_type": "code",
   "execution_count": 91,
   "metadata": {},
   "outputs": [
    {
     "data": {
      "application/vnd.jupyter.widget-view+json": {
       "model_id": "93b8520bf3e5460e900d2a16f31b14ec",
       "version_major": 2,
       "version_minor": 0
      },
      "text/plain": [
       "interactive(children=(IntSlider(value=4999, description='測試編號', max=9999), Button(description='Run Interact', …"
      ]
     },
     "metadata": {},
     "output_type": "display_data"
    },
    {
     "data": {
      "application/vnd.jupyter.widget-view+json": {
       "model_id": "62c1190b22f04ecb9b77564c379b46b2",
       "version_major": 2,
       "version_minor": 0
      },
      "text/plain": [
       "interactive(children=(IntSlider(value=4999, description='測試編號', max=9999), Button(description='Run Interact', …"
      ]
     },
     "metadata": {},
     "output_type": "display_data"
    }
   ],
   "source": [
    "interact_manual(test1, 測試編號=(0, 9999));\n",
    "interact_manual(test2, 測試編號=(0, 9999));"
   ]
  },
  {
   "cell_type": "code",
   "execution_count": 92,
   "metadata": {},
   "outputs": [
    {
     "name": "stdout",
     "output_type": "stream",
     "text": [
      "10000/10000 [==============================] - 1s 51us/step\n",
      "model1:\n",
      "loss: 0.2128062884092331\n",
      "正確率: 0.9388799847602844\n",
      "10000/10000 [==============================] - 0s 48us/step\n",
      "model2:\n",
      "loss: 1.286995681476593\n",
      "正確率: 0.9038999839782715\n"
     ]
    }
   ],
   "source": [
    "score1 = model1.evaluate(x_test, y_test)\n",
    "print('model1:')\n",
    "print('loss:', score1[0])\n",
    "print('正確率:', score1[1])\n",
    "score2 = model2.evaluate(x_test, y_test)\n",
    "print('model2:')\n",
    "print('loss:', score2[0])\n",
    "print('正確率:', score2[1])"
   ]
  },
  {
   "cell_type": "code",
   "execution_count": 93,
   "metadata": {},
   "outputs": [
    {
     "data": {
      "image/png": "[encoded data removed]",
      "text/plain": [
       "<Figure size 432x288 with 1 Axes>"
      ]
     },
     "metadata": {},
     "output_type": "display_data"
    }
   ],
   "source": [
    "plt.plot(model_1.history[\"acc\"])\n",
    "plt.plot(model_2.history[\"acc\"])\n",
    "\n",
    "plt.title(\"model training accuracy\")\n",
    "plt.ylabel(\"accuracy\")\n",
    "plt.xlabel(\"epoch\")\n",
    "plt.legend([\"model1\", \"model2\"], loc=\"best\")\n",
    "plt.show()"
   ]
  },
  {
   "cell_type": "code",
   "execution_count": 94,
   "metadata": {},
   "outputs": [
    {
     "data": {
      "image/png": "[encoded data removed]",
      "text/plain": [
       "<Figure size 432x288 with 1 Axes>"
      ]
     },
     "metadata": {},
     "output_type": "display_data"
    }
   ],
   "source": [
    "plt.plot(model_1.history[\"val_loss\"])\n",
    "plt.plot(model_2.history[\"val_loss\"])\n",
    "\n",
    "plt.title(\"model validation loss\")\n",
    "plt.ylabel(\"loss\")\n",
    "plt.xlabel(\"epoch\")\n",
    "plt.legend([\"model1\", \"model2\"], loc=\"best\")\n",
    "plt.show()"
   ]
  },
  {
   "cell_type": "code",
   "execution_count": null,
   "metadata": {},
   "outputs": [],
   "source": []
  }
 ],
 "metadata": {
  "kernelspec": {
   "display_name": "Python 3",
   "language": "python",
   "name": "python3"
  },
  "language_info": {
   "codemirror_mode": {
    "name": "ipython",
    "version": 3
   },
   "file_extension": ".py",
   "mimetype": "text/x-python",
   "name": "python",
   "nbconvert_exporter": "python",
   "pygments_lexer": "ipython3",
   "version": "3.6.5"
  }
 },
 "nbformat": 4,
 "nbformat_minor": 2
}
