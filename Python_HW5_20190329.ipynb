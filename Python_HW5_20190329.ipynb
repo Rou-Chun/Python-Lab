{
 "cells": [
  {
   "cell_type": "markdown",
   "metadata": {},
   "source": [
    "# 根據智慧型手機搜尋到的七個室內Wifi強度來預估該手機位於哪一個房間"
   ]
  },
  {
   "cell_type": "code",
   "execution_count": 82,
   "metadata": {},
   "outputs": [],
   "source": [
    "%matplotlib inline\n",
    "\n",
    "import numpy as np\n",
    "import matplotlib.pyplot as plt\n",
    "import pandas as pd\n",
    "import matplotlib as mpl\n",
    "mpl.rc('font', family='Noto Sans CJK TC')\n",
    "from sklearn.linear_model import LinearRegression\n",
    "from sklearn.model_selection import train_test_split\n",
    "from sklearn.svm import SVC\n",
    "from sklearn.metrics import accuracy_score\n",
    "from sklearn.metrics import confusion_matrix\n",
    "import statsmodels.api as sm"
   ]
  },
  {
   "cell_type": "code",
   "execution_count": 83,
   "metadata": {},
   "outputs": [],
   "source": [
    "columnNames = ['Wifi_1', 'Wifi_2', 'Wifi_3', 'Wifi_4', 'Wifi_5', 'Wifi_6', 'Wifi_7', 'Class']"
   ]
  },
  {
   "cell_type": "code",
   "execution_count": 84,
   "metadata": {},
   "outputs": [],
   "source": [
    "df = pd.read_csv(\"https://archive.ics.uci.edu/ml/machine-learning-databases/00422/wifi_localization.txt\",\n",
    "                 names=columnNames, \n",
    "                 header=None, \n",
    "                 sep='\\t')"
   ]
  },
  {
   "cell_type": "code",
   "execution_count": 85,
   "metadata": {},
   "outputs": [
    {
     "data": {
      "text/html": [
       "<div>\n",
       "<style scoped>\n",
       "    .dataframe tbody tr th:only-of-type {\n",
       "        vertical-align: middle;\n",
       "    }\n",
       "\n",
       "    .dataframe tbody tr th {\n",
       "        vertical-align: top;\n",
       "    }\n",
       "\n",
       "    .dataframe thead th {\n",
       "        text-align: right;\n",
       "    }\n",
       "</style>\n",
       "<table border=\"1\" class=\"dataframe\">\n",
       "  <thead>\n",
       "    <tr style=\"text-align: right;\">\n",
       "      <th></th>\n",
       "      <th>Wifi_1</th>\n",
       "      <th>Wifi_2</th>\n",
       "      <th>Wifi_3</th>\n",
       "      <th>Wifi_4</th>\n",
       "      <th>Wifi_5</th>\n",
       "      <th>Wifi_6</th>\n",
       "      <th>Wifi_7</th>\n",
       "      <th>Class</th>\n",
       "    </tr>\n",
       "  </thead>\n",
       "  <tbody>\n",
       "    <tr>\n",
       "      <th>0</th>\n",
       "      <td>-64</td>\n",
       "      <td>-56</td>\n",
       "      <td>-61</td>\n",
       "      <td>-66</td>\n",
       "      <td>-71</td>\n",
       "      <td>-82</td>\n",
       "      <td>-81</td>\n",
       "      <td>1</td>\n",
       "    </tr>\n",
       "    <tr>\n",
       "      <th>1</th>\n",
       "      <td>-68</td>\n",
       "      <td>-57</td>\n",
       "      <td>-61</td>\n",
       "      <td>-65</td>\n",
       "      <td>-71</td>\n",
       "      <td>-85</td>\n",
       "      <td>-85</td>\n",
       "      <td>1</td>\n",
       "    </tr>\n",
       "    <tr>\n",
       "      <th>2</th>\n",
       "      <td>-63</td>\n",
       "      <td>-60</td>\n",
       "      <td>-60</td>\n",
       "      <td>-67</td>\n",
       "      <td>-76</td>\n",
       "      <td>-85</td>\n",
       "      <td>-84</td>\n",
       "      <td>1</td>\n",
       "    </tr>\n",
       "    <tr>\n",
       "      <th>3</th>\n",
       "      <td>-61</td>\n",
       "      <td>-60</td>\n",
       "      <td>-68</td>\n",
       "      <td>-62</td>\n",
       "      <td>-77</td>\n",
       "      <td>-90</td>\n",
       "      <td>-80</td>\n",
       "      <td>1</td>\n",
       "    </tr>\n",
       "    <tr>\n",
       "      <th>4</th>\n",
       "      <td>-63</td>\n",
       "      <td>-65</td>\n",
       "      <td>-60</td>\n",
       "      <td>-63</td>\n",
       "      <td>-77</td>\n",
       "      <td>-81</td>\n",
       "      <td>-87</td>\n",
       "      <td>1</td>\n",
       "    </tr>\n",
       "  </tbody>\n",
       "</table>\n",
       "</div>"
      ],
      "text/plain": [
       "   Wifi_1  Wifi_2  Wifi_3  Wifi_4  Wifi_5  Wifi_6  Wifi_7  Class\n",
       "0     -64     -56     -61     -66     -71     -82     -81      1\n",
       "1     -68     -57     -61     -65     -71     -85     -85      1\n",
       "2     -63     -60     -60     -67     -76     -85     -84      1\n",
       "3     -61     -60     -68     -62     -77     -90     -80      1\n",
       "4     -63     -65     -60     -63     -77     -81     -87      1"
      ]
     },
     "execution_count": 85,
     "metadata": {},
     "output_type": "execute_result"
    }
   ],
   "source": [
    "df.head()"
   ]
  },
  {
   "cell_type": "markdown",
   "metadata": {},
   "source": [
    "## 檢查是否有遺漏的資料"
   ]
  },
  {
   "cell_type": "code",
   "execution_count": 86,
   "metadata": {},
   "outputs": [
    {
     "data": {
      "text/plain": [
       "Wifi_1    False\n",
       "Wifi_2    False\n",
       "Wifi_3    False\n",
       "Wifi_4    False\n",
       "Wifi_5    False\n",
       "Wifi_6    False\n",
       "Wifi_7    False\n",
       "Class     False\n",
       "dtype: bool"
      ]
     },
     "execution_count": 86,
     "metadata": {},
     "output_type": "execute_result"
    }
   ],
   "source": [
    "df.isnull().any()"
   ]
  },
  {
   "cell_type": "markdown",
   "metadata": {},
   "source": [
    "## 分別取出x和y資料"
   ]
  },
  {
   "cell_type": "code",
   "execution_count": 87,
   "metadata": {},
   "outputs": [],
   "source": [
    "x = df.iloc[:,:7]\n",
    "y = df.Class"
   ]
  },
  {
   "cell_type": "markdown",
   "metadata": {},
   "source": [
    "## 將DataFrame型態轉為array"
   ]
  },
  {
   "cell_type": "code",
   "execution_count": 88,
   "metadata": {},
   "outputs": [],
   "source": [
    "x = x.values\n",
    "y = y.values"
   ]
  },
  {
   "cell_type": "code",
   "execution_count": 89,
   "metadata": {},
   "outputs": [
    {
     "data": {
      "text/plain": [
       "array([[-64, -56, -61, ..., -71, -82, -81],\n",
       "       [-68, -57, -61, ..., -71, -85, -85],\n",
       "       [-63, -60, -60, ..., -76, -85, -84],\n",
       "       ...,\n",
       "       [-62, -59, -46, ..., -45, -87, -88],\n",
       "       [-62, -58, -52, ..., -41, -90, -85],\n",
       "       [-59, -50, -45, ..., -45, -88, -87]], dtype=int64)"
      ]
     },
     "execution_count": 89,
     "metadata": {},
     "output_type": "execute_result"
    }
   ],
   "source": [
    "x"
   ]
  },
  {
   "cell_type": "code",
   "execution_count": 90,
   "metadata": {},
   "outputs": [
    {
     "data": {
      "text/plain": [
       "array([1, 1, 1, ..., 4, 4, 4], dtype=int64)"
      ]
     },
     "execution_count": 90,
     "metadata": {},
     "output_type": "execute_result"
    }
   ],
   "source": [
    "y"
   ]
  },
  {
   "cell_type": "markdown",
   "metadata": {},
   "source": [
    "## 80%資料做training，20%資料做testing"
   ]
  },
  {
   "cell_type": "code",
   "execution_count": 91,
   "metadata": {},
   "outputs": [],
   "source": [
    "x_train,x_test,y_train,y_test = train_test_split(x, y, test_size=0.2, random_state = 329)"
   ]
  },
  {
   "cell_type": "markdown",
   "metadata": {},
   "source": [
    "## 線性迴歸函數產生器"
   ]
  },
  {
   "cell_type": "code",
   "execution_count": 92,
   "metadata": {},
   "outputs": [],
   "source": [
    "regr = LinearRegression()"
   ]
  },
  {
   "cell_type": "code",
   "execution_count": 93,
   "metadata": {},
   "outputs": [
    {
     "data": {
      "text/plain": [
       "LinearRegression(copy_X=True, fit_intercept=True, n_jobs=1, normalize=False)"
      ]
     },
     "execution_count": 93,
     "metadata": {},
     "output_type": "execute_result"
    }
   ],
   "source": [
    "regr.fit(x_train,y_train)"
   ]
  },
  {
   "cell_type": "markdown",
   "metadata": {},
   "source": [
    "## 預測testing data的值並計算準確率(未進行分類後的準確率約為76.93%)"
   ]
  },
  {
   "cell_type": "code",
   "execution_count": 94,
   "metadata": {},
   "outputs": [],
   "source": [
    "y_pred = regr.predict(x_test)"
   ]
  },
  {
   "cell_type": "code",
   "execution_count": 95,
   "metadata": {},
   "outputs": [
    {
     "data": {
      "text/plain": [
       "array([2.68484463, 3.01964339, 2.3398604 , 2.62888687, 4.11369601,\n",
       "       4.24880064, 3.3005692 , 1.57221957, 1.89278205, 1.66150824,\n",
       "       1.67612818, 2.52987305, 1.82779948, 4.0617509 , 2.88029152,\n",
       "       2.4508814 , 2.26510909, 3.04005837, 0.44290875, 1.04249654,\n",
       "       2.24714574, 1.48205959, 3.31391   , 1.73862424, 4.46437798,\n",
       "       4.45888284, 4.84691203, 2.88528007, 1.60742086, 3.98960058,\n",
       "       0.49953975, 2.58742304, 3.38130724, 1.26585417, 3.66903461,\n",
       "       3.69011452, 3.69361629, 1.86026017, 1.05865672, 2.6410062 ,\n",
       "       2.38755977, 1.56988673, 2.41955642, 2.8168419 , 2.84061316,\n",
       "       1.89064137, 1.96489743, 1.74635539, 4.22872672, 3.00073438,\n",
       "       2.33725515, 1.61103449, 0.99514431, 2.56752848, 1.94468337,\n",
       "       1.86103856, 1.87693967, 4.36949461, 3.06602444, 1.9110113 ,\n",
       "       2.32544846, 2.45326875, 1.84246425, 1.55152283, 2.49142981,\n",
       "       1.68370354, 2.29185171, 3.47322889, 4.43904642, 1.22290757,\n",
       "       2.45187979, 4.0193957 , 2.04233719, 3.72279348, 2.56153592,\n",
       "       2.21586016, 0.70642075, 0.47511238, 1.66537305, 1.0460479 ,\n",
       "       1.17160403, 2.49530751, 2.50374627, 1.02051315, 2.37323643,\n",
       "       2.30104593, 2.21763642, 1.7397275 , 2.46641418, 1.16797614,\n",
       "       1.80093507, 1.96428658, 3.37881334, 1.74559173, 1.60549305,\n",
       "       1.57551615, 1.79545936, 3.80576192, 0.37866   , 3.71573988,\n",
       "       1.17389278, 4.15910809, 2.14157859, 1.1121946 , 2.85552719,\n",
       "       3.8488943 , 3.92689861, 1.513557  , 3.18582004, 1.29048438,\n",
       "       2.88227467, 2.9232049 , 2.84542432, 1.09226785, 3.00244482,\n",
       "       2.52809385, 3.85555416, 1.6568091 , 2.58272492, 1.53993489,\n",
       "       1.03192599, 1.58097774, 1.75582176, 2.54518888, 2.06468721,\n",
       "       3.87740789, 1.1060564 , 1.5091872 , 1.7341439 , 1.76748247,\n",
       "       3.3799147 , 4.05392963, 3.69032562, 2.51089883, 2.34257227,\n",
       "       2.06935159, 1.3545977 , 2.60772929, 3.14658772, 3.26873893,\n",
       "       1.67257269, 2.37042319, 2.44372624, 2.50164528, 3.6062972 ,\n",
       "       2.83120018, 2.68406106, 1.84836147, 3.61685747, 1.39569326,\n",
       "       2.28150313, 1.31990306, 1.97397883, 2.86739194, 2.92187924,\n",
       "       1.68894115, 2.70424467, 2.18306862, 1.2836199 , 2.72652006,\n",
       "       3.42885645, 2.37774027, 2.77249535, 1.9489826 , 2.38375528,\n",
       "       3.69438638, 2.44623981, 1.10857298, 1.22281564, 2.16372448,\n",
       "       4.44943546, 3.31138584, 2.56257226, 2.62672482, 2.58327231,\n",
       "       1.57642677, 2.74042719, 2.58681101, 2.6974646 , 1.14708274,\n",
       "       1.28898226, 2.85778486, 1.71568224, 2.76664365, 1.35062261,\n",
       "       3.5411957 , 2.61344368, 2.50086903, 3.69072333, 4.19223838,\n",
       "       1.31993353, 2.89441148, 2.5002882 , 0.32860417, 1.33729353,\n",
       "       2.88118839, 2.59973383, 0.91079521, 3.24578313, 0.67741732,\n",
       "       3.45309148, 4.04286208, 2.69691975, 4.48479912, 2.02098778,\n",
       "       0.93715854, 2.93019129, 3.96509285, 4.33849899, 4.04543496,\n",
       "       1.30140658, 1.87495552, 3.27891499, 3.8819336 , 1.65595839,\n",
       "       1.65895167, 3.47650184, 2.86182186, 1.56718804, 3.22128716,\n",
       "       1.9930898 , 0.57148754, 2.85381563, 4.15828198, 3.50664692,\n",
       "       2.59001474, 1.76211385, 1.14159252, 3.21585084, 2.41016226,\n",
       "       1.17406205, 2.00146861, 1.70462342, 1.79093606, 2.19731665,\n",
       "       3.77697131, 4.07126409, 2.76608747, 2.02318593, 2.84702631,\n",
       "       1.65017487, 3.98616199, 2.61699631, 2.44997952, 1.81938818,\n",
       "       1.72388595, 2.0553291 , 4.04937905, 2.88960746, 3.47412985,\n",
       "       3.73132736, 2.47435655, 3.78160894, 1.72239006, 1.36758127,\n",
       "       3.06596433, 2.50992053, 3.91082826, 4.55140483, 4.14434934,\n",
       "       3.84122962, 2.82322672, 3.79025895, 3.00529438, 1.61663436,\n",
       "       1.4492514 , 0.65017386, 3.48697444, 3.9410235 , 0.82582167,\n",
       "       1.71180231, 1.53106196, 4.22934072, 3.96863787, 2.42145138,\n",
       "       3.77756253, 2.22606813, 2.76409367, 0.20427792, 1.39069858,\n",
       "       3.66158278, 2.43326032, 1.9292794 , 3.28347377, 1.42833865,\n",
       "       3.80115902, 1.83921383, 2.29911585, 1.32529069, 3.50516058,\n",
       "       3.0196401 , 4.06412059, 1.73829887, 4.03084705, 1.51160936,\n",
       "       1.2659555 , 1.48038762, 1.61887983, 2.46474477, 3.5667482 ,\n",
       "       3.13433601, 1.69870042, 1.413861  , 3.42729379, 0.79072283,\n",
       "       3.73711333, 1.56813631, 1.41998732, 2.02678269, 2.27179365,\n",
       "       4.25047336, 2.40382457, 1.15678987, 3.17073401, 3.30384182,\n",
       "       2.55622894, 2.41448658, 2.24939076, 1.2385885 , 3.33372651,\n",
       "       1.61219013, 1.28488291, 1.57116327, 3.95862759, 2.30495534,\n",
       "       2.54822914, 2.6944888 , 3.29071192, 0.89238147, 1.25905414,\n",
       "       3.58233995, 1.62265102, 3.11515839, 4.03479252, 1.35885737,\n",
       "       3.79198873, 2.45748166, 4.5934997 , 0.94006467, 2.00637738,\n",
       "       2.34856601, 2.44925781, 2.89460364, 2.22480028, 2.83539161,\n",
       "       0.93731747, 2.07803861, 3.6939814 , 1.30262505, 3.11395167,\n",
       "       2.22209529, 3.89543456, 0.46879007, 1.56497734, 2.05081749,\n",
       "       3.14929772, 2.42172384, 2.15573138, 2.44928599, 2.1441328 ,\n",
       "       4.58179292, 2.66520674, 2.41473924, 0.70315597, 1.65866932,\n",
       "       1.50990181, 2.93568952, 3.40840976, 3.19546663, 2.42118494,\n",
       "       2.57009379, 4.23516051, 2.24190236, 0.65317124, 2.0464486 ,\n",
       "       2.46148633, 0.96725272, 3.65133742, 2.2544639 , 4.00266986,\n",
       "       3.02908285, 3.5387642 , 1.68172415, 3.22769725, 3.61551277,\n",
       "       4.36765376, 0.54791669, 3.53199395, 0.51845011, 4.42308649,\n",
       "       1.78776027, 2.02995475, 1.82244568, 2.62582261, 0.06851749,\n",
       "       2.1103326 , 3.8556429 , 1.58408413, 1.82674398, 2.10037926])"
      ]
     },
     "execution_count": 95,
     "metadata": {},
     "output_type": "execute_result"
    }
   ],
   "source": [
    "y_pred"
   ]
  },
  {
   "cell_type": "code",
   "execution_count": 96,
   "metadata": {},
   "outputs": [
    {
     "data": {
      "text/plain": [
       "array([3, 3, 2, 3, 4, 4, 4, 1, 1, 2, 1, 3, 1, 4, 2, 3, 2, 3, 2, 1, 3, 1,\n",
       "       4, 1, 4, 4, 4, 3, 1, 4, 1, 3, 3, 2, 4, 4, 4, 2, 2, 3, 3, 1, 3, 2,\n",
       "       2, 2, 1, 1, 4, 3, 2, 1, 2, 4, 2, 2, 2, 4, 3, 1, 3, 3, 3, 2, 3, 1,\n",
       "       2, 4, 4, 2, 3, 4, 2, 4, 3, 2, 2, 1, 1, 1, 1, 2, 3, 1, 3, 2, 3, 2,\n",
       "       2, 1, 1, 1, 4, 2, 1, 1, 1, 4, 1, 4, 1, 4, 2, 2, 3, 4, 4, 1, 4, 1,\n",
       "       4, 3, 3, 2, 3, 3, 4, 1, 3, 1, 1, 2, 1, 3, 2, 4, 1, 2, 2, 1, 4, 4,\n",
       "       4, 3, 3, 2, 1, 3, 3, 4, 2, 2, 3, 3, 4, 3, 2, 2, 4, 1, 1, 1, 2, 3,\n",
       "       3, 1, 2, 2, 1, 2, 4, 3, 2, 2, 2, 4, 2, 1, 1, 2, 4, 4, 2, 4, 3, 1,\n",
       "       2, 3, 3, 1, 1, 3, 1, 2, 1, 4, 3, 3, 4, 4, 1, 3, 2, 1, 1, 3, 2, 1,\n",
       "       3, 1, 3, 4, 2, 4, 3, 1, 3, 4, 4, 4, 1, 1, 4, 4, 1, 2, 4, 3, 1, 3,\n",
       "       2, 1, 3, 4, 4, 3, 1, 2, 3, 2, 1, 2, 1, 1, 2, 4, 4, 2, 1, 3, 2, 4,\n",
       "       3, 3, 2, 1, 3, 4, 3, 4, 4, 2, 4, 2, 1, 3, 3, 4, 4, 4, 4, 2, 4, 3,\n",
       "       1, 2, 1, 4, 4, 1, 1, 2, 4, 4, 3, 4, 1, 2, 1, 1, 4, 3, 1, 4, 1, 4,\n",
       "       1, 2, 1, 4, 3, 4, 1, 4, 1, 1, 1, 1, 3, 4, 3, 1, 1, 4, 2, 4, 2, 2,\n",
       "       3, 3, 4, 2, 1, 4, 3, 3, 1, 3, 2, 4, 2, 1, 1, 4, 3, 3, 3, 4, 1, 1,\n",
       "       4, 2, 3, 4, 1, 4, 3, 4, 1, 1, 2, 3, 3, 3, 3, 1, 1, 4, 2, 2, 2, 4,\n",
       "       2, 2, 2, 3, 3, 2, 2, 2, 4, 3, 3, 2, 1, 2, 2, 4, 4, 3, 3, 4, 2, 1,\n",
       "       2, 2, 1, 4, 3, 4, 3, 4, 1, 3, 4, 4, 1, 4, 2, 4, 2, 1, 2, 2, 1, 3,\n",
       "       4, 1, 1, 3], dtype=int64)"
      ]
     },
     "execution_count": 96,
     "metadata": {},
     "output_type": "execute_result"
    }
   ],
   "source": [
    "y_test"
   ]
  },
  {
   "cell_type": "code",
   "execution_count": 97,
   "metadata": {},
   "outputs": [
    {
     "data": {
      "text/plain": [
       "0.7692733999757552"
      ]
     },
     "execution_count": 97,
     "metadata": {},
     "output_type": "execute_result"
    }
   ],
   "source": [
    "regr.score(x_test,y_test)"
   ]
  },
  {
   "cell_type": "markdown",
   "metadata": {},
   "source": [
    "## 由於迴歸函數做出的預測值並非整數，因此額外寫分類函數，根據預測值和{1,2,3,4}哪個整數最接近便將它進行分類"
   ]
  },
  {
   "cell_type": "code",
   "execution_count": 98,
   "metadata": {},
   "outputs": [],
   "source": [
    "isRounddown = np.ceil(y_pred)-y_pred > y_pred-np.floor(y_pred)\n",
    "def classification(y_pred):\n",
    "    y_classification = np.zeros(len(y_pred))\n",
    "    for i in range(0,len(y_pred)):\n",
    "        if y_pred[i] < 1:\n",
    "            y_classification[i] = 1\n",
    "        elif y_pred[i] > 4:\n",
    "            y_classification[i] = 4\n",
    "        else:\n",
    "            #y_classification[i] = np.round(y_pred[i])\n",
    "            if isRounddown[i]:\n",
    "                y_classification[i] = np.floor(y_pred[i])\n",
    "            else:\n",
    "                y_classification[i] = np.ceil(y_pred[i])\n",
    "    return y_classification"
   ]
  },
  {
   "cell_type": "code",
   "execution_count": 99,
   "metadata": {},
   "outputs": [],
   "source": [
    "y_classification = classification(y_pred)"
   ]
  },
  {
   "cell_type": "markdown",
   "metadata": {},
   "source": [
    "## 畫出正確分類的散佈圖(藍色)和預測分類的散佈圖(橘色)，不重疊之處表示分類錯誤"
   ]
  },
  {
   "cell_type": "code",
   "execution_count": 100,
   "metadata": {},
   "outputs": [],
   "source": [
    "X = np.linspace(1,len(x_test)+1,len(x_test))"
   ]
  },
  {
   "cell_type": "code",
   "execution_count": 101,
   "metadata": {},
   "outputs": [
    {
     "data": {
      "text/plain": [
       "<matplotlib.collections.PathCollection at 0x194e8a33a58>"
      ]
     },
     "execution_count": 101,
     "metadata": {},
     "output_type": "execute_result"
    },
    {
     "data": {
      "image/png": "[encoded data removed]",
      "text/plain": [
       "<Figure size 432x288 with 1 Axes>"
      ]
     },
     "metadata": {},
     "output_type": "display_data"
    }
   ],
   "source": [
    "plt.scatter(X,y_test)\n",
    "plt.scatter(X, y_classification)"
   ]
  },
  {
   "cell_type": "markdown",
   "metadata": {},
   "source": [
    "## 由於圖形較難判讀，因此額外統整分類情況表格，並計算預測結果正確率"
   ]
  },
  {
   "cell_type": "code",
   "execution_count": 102,
   "metadata": {},
   "outputs": [],
   "source": [
    "result = np.zeros((4,4))"
   ]
  },
  {
   "cell_type": "code",
   "execution_count": 103,
   "metadata": {},
   "outputs": [],
   "source": [
    "result[0,0] = y_classification[(y_classification - y_test == 0) & (y_classification == 1)].sum()\n",
    "result[1,1] = y_classification[(y_classification - y_test == 0) & (y_classification == 2)].sum()/2\n",
    "result[2,2] = y_classification[(y_classification - y_test == 0) & (y_classification == 3)].sum()/3\n",
    "result[3,3] = y_classification[(y_classification - y_test == 0) & (y_classification == 4)].sum()/4"
   ]
  },
  {
   "cell_type": "code",
   "execution_count": 104,
   "metadata": {},
   "outputs": [],
   "source": [
    "result[0,1] = y_classification[(y_classification - y_test == 1) & (y_classification == 2)].sum()/2\n",
    "result[1,2] = y_classification[(y_classification - y_test == 1) & (y_classification == 3)].sum()/3\n",
    "result[2,3] = y_classification[(y_classification - y_test == 1) & (y_classification == 4)].sum()/4\n",
    "result[1,0] = y_classification[(y_classification - y_test == -1) & (y_classification == 1)].sum()\n",
    "result[2,1] = y_classification[(y_classification - y_test == -1) & (y_classification == 2)].sum()/2\n",
    "result[3,2] = y_classification[(y_classification - y_test == -1) & (y_classification == 3)].sum()/3"
   ]
  },
  {
   "cell_type": "code",
   "execution_count": 105,
   "metadata": {},
   "outputs": [
    {
     "data": {
      "text/plain": [
       "array([[52., 53.,  0.,  0.],\n",
       "       [17., 61., 19.,  0.],\n",
       "       [ 0., 33., 63.,  0.],\n",
       "       [ 0.,  0., 23., 79.]])"
      ]
     },
     "execution_count": 105,
     "metadata": {},
     "output_type": "execute_result"
    }
   ],
   "source": [
    "result"
   ]
  },
  {
   "cell_type": "code",
   "execution_count": 106,
   "metadata": {},
   "outputs": [],
   "source": [
    "resultDF = pd.DataFrame(result, columns=['1號房間','2號房間','3號房間','4號房間'])"
   ]
  },
  {
   "cell_type": "code",
   "execution_count": 107,
   "metadata": {},
   "outputs": [],
   "source": [
    "resultDF.index = range(1,5)"
   ]
  },
  {
   "cell_type": "markdown",
   "metadata": {},
   "source": [
    "## 分類情況表格:\n",
    "### 補充:有17支智慧型手機實際在編號2房間，但預測結果卻分類到1號房間，以此類推。"
   ]
  },
  {
   "cell_type": "code",
   "execution_count": 108,
   "metadata": {},
   "outputs": [
    {
     "data": {
      "text/html": [
       "<div>\n",
       "<style scoped>\n",
       "    .dataframe tbody tr th:only-of-type {\n",
       "        vertical-align: middle;\n",
       "    }\n",
       "\n",
       "    .dataframe tbody tr th {\n",
       "        vertical-align: top;\n",
       "    }\n",
       "\n",
       "    .dataframe thead th {\n",
       "        text-align: right;\n",
       "    }\n",
       "</style>\n",
       "<table border=\"1\" class=\"dataframe\">\n",
       "  <thead>\n",
       "    <tr style=\"text-align: right;\">\n",
       "      <th></th>\n",
       "      <th>1號房間</th>\n",
       "      <th>2號房間</th>\n",
       "      <th>3號房間</th>\n",
       "      <th>4號房間</th>\n",
       "    </tr>\n",
       "  </thead>\n",
       "  <tbody>\n",
       "    <tr>\n",
       "      <th>1</th>\n",
       "      <td>52.0</td>\n",
       "      <td>53.0</td>\n",
       "      <td>0.0</td>\n",
       "      <td>0.0</td>\n",
       "    </tr>\n",
       "    <tr>\n",
       "      <th>2</th>\n",
       "      <td>17.0</td>\n",
       "      <td>61.0</td>\n",
       "      <td>19.0</td>\n",
       "      <td>0.0</td>\n",
       "    </tr>\n",
       "    <tr>\n",
       "      <th>3</th>\n",
       "      <td>0.0</td>\n",
       "      <td>33.0</td>\n",
       "      <td>63.0</td>\n",
       "      <td>0.0</td>\n",
       "    </tr>\n",
       "    <tr>\n",
       "      <th>4</th>\n",
       "      <td>0.0</td>\n",
       "      <td>0.0</td>\n",
       "      <td>23.0</td>\n",
       "      <td>79.0</td>\n",
       "    </tr>\n",
       "  </tbody>\n",
       "</table>\n",
       "</div>"
      ],
      "text/plain": [
       "   1號房間  2號房間  3號房間  4號房間\n",
       "1  52.0  53.0   0.0   0.0\n",
       "2  17.0  61.0  19.0   0.0\n",
       "3   0.0  33.0  63.0   0.0\n",
       "4   0.0   0.0  23.0  79.0"
      ]
     },
     "execution_count": 108,
     "metadata": {},
     "output_type": "execute_result"
    }
   ],
   "source": [
    "resultDF"
   ]
  },
  {
   "cell_type": "code",
   "execution_count": 109,
   "metadata": {},
   "outputs": [],
   "source": [
    "resultDF['總和'] = resultDF.sum(axis=1)"
   ]
  },
  {
   "cell_type": "code",
   "execution_count": 110,
   "metadata": {},
   "outputs": [
    {
     "data": {
      "text/html": [
       "<div>\n",
       "<style scoped>\n",
       "    .dataframe tbody tr th:only-of-type {\n",
       "        vertical-align: middle;\n",
       "    }\n",
       "\n",
       "    .dataframe tbody tr th {\n",
       "        vertical-align: top;\n",
       "    }\n",
       "\n",
       "    .dataframe thead th {\n",
       "        text-align: right;\n",
       "    }\n",
       "</style>\n",
       "<table border=\"1\" class=\"dataframe\">\n",
       "  <thead>\n",
       "    <tr style=\"text-align: right;\">\n",
       "      <th></th>\n",
       "      <th>1號房間</th>\n",
       "      <th>2號房間</th>\n",
       "      <th>3號房間</th>\n",
       "      <th>4號房間</th>\n",
       "      <th>總和</th>\n",
       "    </tr>\n",
       "  </thead>\n",
       "  <tbody>\n",
       "    <tr>\n",
       "      <th>1</th>\n",
       "      <td>52.0</td>\n",
       "      <td>53.0</td>\n",
       "      <td>0.0</td>\n",
       "      <td>0.0</td>\n",
       "      <td>105.0</td>\n",
       "    </tr>\n",
       "    <tr>\n",
       "      <th>2</th>\n",
       "      <td>17.0</td>\n",
       "      <td>61.0</td>\n",
       "      <td>19.0</td>\n",
       "      <td>0.0</td>\n",
       "      <td>97.0</td>\n",
       "    </tr>\n",
       "    <tr>\n",
       "      <th>3</th>\n",
       "      <td>0.0</td>\n",
       "      <td>33.0</td>\n",
       "      <td>63.0</td>\n",
       "      <td>0.0</td>\n",
       "      <td>96.0</td>\n",
       "    </tr>\n",
       "    <tr>\n",
       "      <th>4</th>\n",
       "      <td>0.0</td>\n",
       "      <td>0.0</td>\n",
       "      <td>23.0</td>\n",
       "      <td>79.0</td>\n",
       "      <td>102.0</td>\n",
       "    </tr>\n",
       "  </tbody>\n",
       "</table>\n",
       "</div>"
      ],
      "text/plain": [
       "   1號房間  2號房間  3號房間  4號房間     總和\n",
       "1  52.0  53.0   0.0   0.0  105.0\n",
       "2  17.0  61.0  19.0   0.0   97.0\n",
       "3   0.0  33.0  63.0   0.0   96.0\n",
       "4   0.0   0.0  23.0  79.0  102.0"
      ]
     },
     "execution_count": 110,
     "metadata": {},
     "output_type": "execute_result"
    }
   ],
   "source": [
    "resultDF"
   ]
  },
  {
   "cell_type": "code",
   "execution_count": 111,
   "metadata": {},
   "outputs": [],
   "source": [
    "num_classification = [resultDF['1號房間'].sum(axis=0), resultDF['2號房間'].sum(axis=0),resultDF['3號房間'].sum(axis=0), resultDF['4號房間'].sum(axis=0)]"
   ]
  },
  {
   "cell_type": "code",
   "execution_count": 112,
   "metadata": {},
   "outputs": [
    {
     "data": {
      "text/plain": [
       "Text(0,0.5,'智慧型手機數量')"
      ]
     },
     "execution_count": 112,
     "metadata": {},
     "output_type": "execute_result"
    },
    {
     "data": {
      "image/png": "[encoded data removed]",
      "text/plain": [
       "<Figure size 432x288 with 1 Axes>"
      ]
     },
     "metadata": {},
     "output_type": "display_data"
    }
   ],
   "source": [
    "plt.bar(resultDF.index, resultDF['總和'], label = 'y_test(原始資料)', align = 'edge', width = -0.35)\n",
    "plt.bar(resultDF.index, num_classification, label = 'y_classification(預測結果)', align = 'edge', width = 0.35)\n",
    "plt.legend()\n",
    "plt.title(\"Testing Data各編號房間的手機數量\")\n",
    "plt.xlabel(\"房間編號\")\n",
    "plt.ylabel(\"智慧型手機數量\")"
   ]
  },
  {
   "cell_type": "markdown",
   "metadata": {},
   "source": [
    "## 預測結果正確率約為63.75%"
   ]
  },
  {
   "cell_type": "code",
   "execution_count": 113,
   "metadata": {},
   "outputs": [
    {
     "data": {
      "text/plain": [
       "63.74999999999999"
      ]
     },
     "execution_count": 113,
     "metadata": {},
     "output_type": "execute_result"
    }
   ],
   "source": [
    "(len(y_classification) - abs(y_classification - y_test).sum()) / len(y_classification) * 100"
   ]
  },
  {
   "cell_type": "markdown",
   "metadata": {},
   "source": [
    "# 參考別人作業的的類神經"
   ]
  },
  {
   "cell_type": "code",
   "execution_count": 114,
   "metadata": {},
   "outputs": [
    {
     "name": "stdout",
     "output_type": "stream",
     "text": [
      "Epoch 1/1000\n",
      "1600/1600 [==============================] - 1s 413us/step - loss: 28.4876\n",
      "Epoch 2/1000\n",
      "1600/1600 [==============================] - 0s 29us/step - loss: 1.7517\n",
      "Epoch 3/1000\n",
      "1600/1600 [==============================] - 0s 30us/step - loss: 0.4249\n",
      "Epoch 4/1000\n",
      "1600/1600 [==============================] - 0s 33us/step - loss: 0.2948\n",
      "Epoch 5/1000\n",
      "1600/1600 [==============================] - 0s 29us/step - loss: 0.2391\n",
      "Epoch 6/1000\n",
      "1600/1600 [==============================] - 0s 32us/step - loss: 0.2122\n",
      "Epoch 7/1000\n",
      "1600/1600 [==============================] - 0s 32us/step - loss: 0.2032\n",
      "Epoch 8/1000\n",
      "1600/1600 [==============================] - 0s 32us/step - loss: 0.1758\n",
      "Epoch 9/1000\n",
      "1600/1600 [==============================] - 0s 33us/step - loss: 0.1638\n",
      "Epoch 10/1000\n",
      "1600/1600 [==============================] - 0s 31us/step - loss: 0.1560\n",
      "Epoch 11/1000\n",
      "1600/1600 [==============================] - 0s 29us/step - loss: 0.1450\n",
      "Epoch 12/1000\n",
      "1600/1600 [==============================] - 0s 36us/step - loss: 0.1472\n",
      "Epoch 13/1000\n",
      "1600/1600 [==============================] - 0s 32us/step - loss: 0.1380\n",
      "Epoch 14/1000\n",
      "1600/1600 [==============================] - 0s 27us/step - loss: 0.1395\n",
      "Epoch 15/1000\n",
      "1600/1600 [==============================] - 0s 32us/step - loss: 0.1424\n",
      "Epoch 16/1000\n",
      "1600/1600 [==============================] - 0s 30us/step - loss: 0.1257\n",
      "Epoch 17/1000\n",
      "1600/1600 [==============================] - 0s 31us/step - loss: 0.1237\n",
      "Epoch 18/1000\n",
      "1600/1600 [==============================] - 0s 32us/step - loss: 0.1136\n",
      "Epoch 19/1000\n",
      "1600/1600 [==============================] - 0s 43us/step - loss: 0.1139\n",
      "Epoch 20/1000\n",
      "1600/1600 [==============================] - 0s 37us/step - loss: 0.1119\n",
      "Epoch 21/1000\n",
      "1600/1600 [==============================] - 0s 42us/step - loss: 0.1096\n",
      "Epoch 22/1000\n",
      "1600/1600 [==============================] - 0s 31us/step - loss: 0.1113\n",
      "Epoch 23/1000\n",
      "1600/1600 [==============================] - 0s 34us/step - loss: 0.1012\n",
      "Epoch 24/1000\n",
      "1600/1600 [==============================] - 0s 39us/step - loss: 0.0995\n",
      "Epoch 25/1000\n",
      "1600/1600 [==============================] - 0s 41us/step - loss: 0.0939\n",
      "Epoch 26/1000\n",
      "1600/1600 [==============================] - 0s 36us/step - loss: 0.0989\n",
      "Epoch 27/1000\n",
      "1600/1600 [==============================] - 0s 36us/step - loss: 0.0970\n",
      "Epoch 28/1000\n",
      "1600/1600 [==============================] - 0s 29us/step - loss: 0.0883\n",
      "Epoch 29/1000\n",
      "1600/1600 [==============================] - 0s 32us/step - loss: 0.0951\n",
      "Epoch 30/1000\n",
      "1600/1600 [==============================] - 0s 30us/step - loss: 0.0843\n",
      "Epoch 31/1000\n",
      "1600/1600 [==============================] - 0s 31us/step - loss: 0.0801\n",
      "Epoch 32/1000\n",
      "1600/1600 [==============================] - 0s 29us/step - loss: 0.0799\n",
      "Epoch 33/1000\n",
      "1600/1600 [==============================] - 0s 29us/step - loss: 0.0810\n",
      "Epoch 34/1000\n",
      "1600/1600 [==============================] - 0s 32us/step - loss: 0.0850\n",
      "Epoch 35/1000\n",
      "1600/1600 [==============================] - 0s 29us/step - loss: 0.0789\n",
      "Epoch 36/1000\n",
      "1600/1600 [==============================] - 0s 37us/step - loss: 0.0963\n",
      "Epoch 37/1000\n",
      "1600/1600 [==============================] - 0s 30us/step - loss: 0.0940\n",
      "Epoch 38/1000\n",
      "1600/1600 [==============================] - 0s 33us/step - loss: 0.0893\n"
     ]
    },
    {
     "data": {
      "text/plain": [
       "<keras.callbacks.History at 0x194ebc93978>"
      ]
     },
     "execution_count": 114,
     "metadata": {},
     "output_type": "execute_result"
    }
   ],
   "source": [
    "from keras.models import Sequential\n",
    "from keras.layers import Dense\n",
    "from keras import layers, initializers\n",
    "from keras.layers import Dropout\n",
    "from keras.callbacks import EarlyStopping\n",
    "early_stopping = EarlyStopping(monitor='loss', patience=3, verbose=0)\n",
    "model = Sequential()\n",
    "n_cols = x_train.shape[1]\n",
    "#add model layers\n",
    "model.add(Dense(50, activation='relu', input_shape=(n_cols,),kernel_initializer=\"he_normal\"))\n",
    "model.add(Dense(50, activation='relu',kernel_initializer=\"he_normal\"))\n",
    "model.add(Dense(50, activation='relu',kernel_initializer=\"he_normal\"))\n",
    "model.add(Dense(50, activation='relu',kernel_initializer=\"he_normal\"))\n",
    "model.add(Dense(50, activation='relu',kernel_initializer=\"he_normal\"))\n",
    "model.add(Dense(50, activation='relu',kernel_initializer=\"he_normal\"))\n",
    "model.add(Dense(50, activation='relu',kernel_initializer=\"he_normal\"))\n",
    "model.add(Dense(50, activation='relu',kernel_initializer=\"he_normal\"))\n",
    "model.add(Dense(1))\n",
    "\n",
    "#compile model using mse as a measure of model performance\n",
    "model.compile(optimizer='adam', loss='mean_squared_error')\n",
    "#train model\n",
    "model.fit(x_train,y_train, epochs=1000,callbacks=[early_stopping],batch_size=64)"
   ]
  },
  {
   "cell_type": "code",
   "execution_count": 115,
   "metadata": {},
   "outputs": [
    {
     "name": "stdout",
     "output_type": "stream",
     "text": [
      "MSE train: 0.10, test: 0.11\n",
      "R^2 train: 0.92, test: 0.91\n"
     ]
    }
   ],
   "source": [
    "from sklearn.metrics import mean_squared_error, r2_score\n",
    "y_train_pred = model.predict(x_train)\n",
    "y_test_pred = model.predict(x_test)\n",
    "\n",
    "print('MSE train: %.2f, test: %.2f' %\n",
    "      (mean_squared_error(y_train, y_train_pred),\n",
    "       mean_squared_error(y_test, y_test_pred)))\n",
    "print('R^2 train: %.2f, test: %.2f' % (r2_score(y_train, y_train_pred),\n",
    "                                       r2_score(y_test, y_test_pred)))"
   ]
  },
  {
   "cell_type": "markdown",
   "metadata": {},
   "source": [
    "# statsmodels(也是線性回歸)"
   ]
  },
  {
   "cell_type": "code",
   "execution_count": 116,
   "metadata": {},
   "outputs": [],
   "source": [
    "result = sm.OLS(y_train,x_train).fit()"
   ]
  },
  {
   "cell_type": "code",
   "execution_count": 117,
   "metadata": {},
   "outputs": [
    {
     "name": "stdout",
     "output_type": "stream",
     "text": [
      "                            OLS Regression Results                            \n",
      "==============================================================================\n",
      "Dep. Variable:                      y   R-squared:                       0.956\n",
      "Model:                            OLS   Adj. R-squared:                  0.956\n",
      "Method:                 Least Squares   F-statistic:                     4959.\n",
      "Date:                Fri, 12 Apr 2019   Prob (F-statistic):               0.00\n",
      "Time:                        12:22:30   Log-Likelihood:                -1381.8\n",
      "No. Observations:                1600   AIC:                             2778.\n",
      "Df Residuals:                    1593   BIC:                             2815.\n",
      "Df Model:                           7                                         \n",
      "Covariance Type:            nonrobust                                         \n",
      "==============================================================================\n",
      "                 coef    std err          t      P>|t|      [0.025      0.975]\n",
      "------------------------------------------------------------------------------\n",
      "x1             0.0224      0.003      6.625      0.000       0.016       0.029\n",
      "x2            -0.0439      0.004    -10.768      0.000      -0.052      -0.036\n",
      "x3             0.0492      0.004     13.361      0.000       0.042       0.056\n",
      "x4             0.0251      0.003      7.670      0.000       0.019       0.032\n",
      "x5             0.0621      0.002     28.058      0.000       0.058       0.066\n",
      "x6            -0.0669      0.003    -19.788      0.000      -0.073      -0.060\n",
      "x7            -0.0457      0.003    -14.512      0.000      -0.052      -0.040\n",
      "==============================================================================\n",
      "Omnibus:                        5.862   Durbin-Watson:                   1.949\n",
      "Prob(Omnibus):                  0.053   Jarque-Bera (JB):                5.415\n",
      "Skew:                          -0.096   Prob(JB):                       0.0667\n",
      "Kurtosis:                       2.790   Cond. No.                         55.5\n",
      "==============================================================================\n",
      "\n",
      "Warnings:\n",
      "[1] Standard Errors assume that the covariance matrix of the errors is correctly specified.\n"
     ]
    }
   ],
   "source": [
    "print(result.summary())"
   ]
  },
  {
   "cell_type": "markdown",
   "metadata": {},
   "source": [
    "# 監督式學習的機器學習SVM(一種分類器)"
   ]
  },
  {
   "cell_type": "code",
   "execution_count": 75,
   "metadata": {},
   "outputs": [],
   "source": [
    "clf = SVC()"
   ]
  },
  {
   "cell_type": "code",
   "execution_count": 76,
   "metadata": {},
   "outputs": [
    {
     "data": {
      "text/plain": [
       "SVC(C=1.0, cache_size=200, class_weight=None, coef0=0.0,\n",
       "  decision_function_shape='ovr', degree=3, gamma='auto', kernel='rbf',\n",
       "  max_iter=-1, probability=False, random_state=None, shrinking=True,\n",
       "  tol=0.001, verbose=False)"
      ]
     },
     "execution_count": 76,
     "metadata": {},
     "output_type": "execute_result"
    }
   ],
   "source": [
    "clf.fit(x_train,y_train)"
   ]
  },
  {
   "cell_type": "code",
   "execution_count": 77,
   "metadata": {},
   "outputs": [],
   "source": [
    "y_predict = clf.predict(x_test)"
   ]
  },
  {
   "cell_type": "code",
   "execution_count": 78,
   "metadata": {},
   "outputs": [
    {
     "data": {
      "text/plain": [
       "0.7875"
      ]
     },
     "execution_count": 78,
     "metadata": {},
     "output_type": "execute_result"
    }
   ],
   "source": [
    "accuracy_score(y_test,y_predict)"
   ]
  },
  {
   "cell_type": "code",
   "execution_count": 79,
   "metadata": {},
   "outputs": [
    {
     "data": {
      "text/plain": [
       "array([[84, 21,  0,  0],\n",
       "       [ 0, 97,  0,  0],\n",
       "       [ 0, 34, 62,  0],\n",
       "       [ 0, 30,  0, 72]], dtype=int64)"
      ]
     },
     "execution_count": 79,
     "metadata": {},
     "output_type": "execute_result"
    }
   ],
   "source": [
    "confusion_matrix(y_test,y_predict)"
   ]
  },
  {
   "cell_type": "code",
   "execution_count": null,
   "metadata": {},
   "outputs": [],
   "source": []
  }
 ],
 "metadata": {
  "kernelspec": {
   "display_name": "Python 3",
   "language": "python",
   "name": "python3"
  },
  "language_info": {
   "codemirror_mode": {
    "name": "ipython",
    "version": 3
   },
   "file_extension": ".py",
   "mimetype": "text/x-python",
   "name": "python",
   "nbconvert_exporter": "python",
   "pygments_lexer": "ipython3",
   "version": "3.6.5"
  }
 },
 "nbformat": 4,
 "nbformat_minor": 2
}
